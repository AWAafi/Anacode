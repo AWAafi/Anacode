{
  "nbformat": 4,
  "nbformat_minor": 0,
  "metadata": {
    "colab": {
      "provenance": [],
      "authorship_tag": "ABX9TyNgzoz5qHPvJ7NJ2o3RwU4r",
      "include_colab_link": true
    },
    "kernelspec": {
      "name": "python3",
      "display_name": "Python 3"
    },
    "language_info": {
      "name": "python"
    }
  },
  "cells": [
    {
      "cell_type": "markdown",
      "metadata": {
        "id": "view-in-github",
        "colab_type": "text"
      },
      "source": [
        "<a href=\"https://colab.research.google.com/github/AWAafi/Anacode/blob/main/MSPR3.ipynb\" target=\"_parent\"><img src=\"https://colab.research.google.com/assets/colab-badge.svg\" alt=\"Open In Colab\"/></a>"
      ]
    },
    {
      "cell_type": "markdown",
      "source": [
        "Pour Fusionner les données ensemble\n",
        "\n",
        "---\n",
        "\n"
      ],
      "metadata": {
        "id": "OLV9CnUu86j3"
      }
    },
    {
      "cell_type": "code",
      "execution_count": 1,
      "metadata": {
        "colab": {
          "base_uri": "https://localhost:8080/"
        },
        "id": "L7d6qlyG7_mm",
        "outputId": "34edce5d-31b6-4fdc-f96f-6f503dda2f37"
      },
      "outputs": [
        {
          "output_type": "stream",
          "name": "stdout",
          "text": [
            "  Code Commune               Nom Commune  Population Code Departement  \\\n",
            "0        01001  L' Abergement-Clémenciat         776               01   \n",
            "1        01002    L' Abergement-de-Varey         248               01   \n",
            "2        01004         Ambérieu-en-Bugey       14035               01   \n",
            "3        01005       Ambérieux-en-Dombes        1689               01   \n",
            "4        01006                   Ambléon         111               01   \n",
            "\n",
            "                 Région  Année  Nb Faits Divers  Taux de chômage  Créations  \\\n",
            "0  Auvergne-Rhône-Alpes     17              0.0            8.125    4024.25   \n",
            "1  Auvergne-Rhône-Alpes     17              0.0            8.125    4024.25   \n",
            "2  Auvergne-Rhône-Alpes     17            643.0            8.125    4024.25   \n",
            "3  Auvergne-Rhône-Alpes     17             15.0            8.125    4024.25   \n",
            "4  Auvergne-Rhône-Alpes     17              0.0            8.125    4024.25   \n",
            "\n",
            "   Inscrits  Nb_Votant  Nom_Prenom_Gagnant  \n",
            "0     598.0      495.0       Marine LE PEN  \n",
            "1     209.0      176.0       Marine LE PEN  \n",
            "2    8586.0     6452.0       Marine LE PEN  \n",
            "3    1172.0      933.0       Marine LE PEN  \n",
            "4      99.0       77.0  Jean-Luc MELENCHON  \n"
          ]
        }
      ],
      "source": [
        "import pandas as pd\n",
        "\n",
        "# Lecture des fichiers CSV\n",
        "df_chomage = pd.read_csv('data_chomage.csv')\n",
        "df_creat_entreprise = pd.read_csv('data_creations_entreprises.csv')\n",
        "df_criminalite = pd.read_csv('data_criminalite.csv', sep=';')\n",
        "df_election = pd.read_csv('data_election.csv')\n",
        "df_population = pd.read_csv('data_population.csv')\n",
        "\n",
        "df_final = pd.DataFrame()\n",
        "\n",
        "# Harmonisation des colonnes\n",
        "df_chomage['Année'] = df_chomage['Année'].astype(str).str[-2:].astype(int)\n",
        "df_creat_entreprise['Année'] = df_creat_entreprise['Année'].astype(str).str[-2:].astype(int)\n",
        "df_criminalite.rename(columns={'annee': 'Année', 'CODGEO_2024': 'Code Commune', 'faits': 'Nb Faits Divers'}, inplace=True)\n",
        "\n",
        "# Fusion des DataFrames\n",
        "df_final = df_population.copy()\n",
        "\n",
        "df_final = pd.merge(df_final, df_criminalite, on=['Code Commune', 'Année'], how='left')\n",
        "df_final = pd.merge(df_final, df_chomage, on=['Année'], how='left')\n",
        "df_final = pd.merge(df_final, df_creat_entreprise, on=['Année'], how='left')\n",
        "df_final = pd.merge(df_final, df_election, on=['Code Commune', 'Année'], how='left')\n",
        "\n",
        "# Nettoyage des noms de candidats (problèmes d'encodage)\n",
        "df_final['Nom_Prenom_Gagnant'] = df_final['Nom_Prenom_Gagnant'].str.replace('Jean-Luc Mï¿½LENCHON', 'Jean-Luc MELENCHON', regex=False)\n",
        "df_final['Nom_Prenom_Gagnant'] = df_final['Nom_Prenom_Gagnant'].str.replace('Franï¿½ois FILLON', 'Francois FILLON', regex=False)\n",
        "df_final['Nom_Prenom_Gagnant'] = df_final['Nom_Prenom_Gagnant'].str.replace('Benoï¿½t HAMON', 'Benoit HAMON', regex=False)\n",
        "df_final['Nom_Prenom_Gagnant'] = df_final['Nom_Prenom_Gagnant'].str.replace('Franï¿½ois ASSELINEAU', 'Francois ASSELINEAU', regex=False)\n",
        "df_final['Nom_Prenom_Gagnant'] = df_final['Nom_Prenom_Gagnant'].str.replace('ï¿½ric ZEMMOUR', 'Eric ZEMMOUR', regex=False)\n",
        "df_final['Nom_Prenom_Gagnant'] = df_final['Nom_Prenom_Gagnant'].str.replace('Valï¿½rie Pï¿½CRESSE', 'Valerie PECRESSE', regex=False)\n",
        "\n",
        "# Affichage et export\n",
        "print(df_final.head())\n",
        "\n",
        "df_final.to_csv('final_data.csv', index=False)\n"
      ]
    },
    {
      "cell_type": "markdown",
      "source": [
        "Les prédictions\n"
      ],
      "metadata": {
        "id": "HpUXjdR684ge"
      }
    },
    {
      "cell_type": "code",
      "source": [
        "import pandas as pd\n",
        "import numpy as np\n",
        "from collections import Counter\n",
        "from sklearn.model_selection import train_test_split\n",
        "from sklearn.impute import SimpleImputer\n",
        "from sklearn.preprocessing import LabelEncoder, StandardScaler, OneHotEncoder\n",
        "from sklearn.pipeline import Pipeline\n",
        "from sklearn.compose import ColumnTransformer\n",
        "from sklearn.ensemble import RandomForestClassifier, GradientBoostingClassifier\n",
        "from sklearn.cluster import KMeans\n",
        "from sklearn.metrics import accuracy_score\n",
        "\n",
        "# Chargement du jeu de données\n",
        "donnees = pd.read_csv(\"final_data.csv\")\n",
        "\n",
        "# Filtrage sur l'année de base\n",
        "ANNEE_REF = 22\n",
        "ANNEE_PRECE = 17\n",
        "donnees_2022 = donnees[donnees[\"Année\"] == ANNEE_REF].copy()\n",
        "\n",
        "# Variables concernées\n",
        "vars_diff = ['Population', 'Nb Faits Divers', 'Taux de chômage', 'Créations', 'Inscrits', 'Nb_Votant']\n",
        "vars_locales = ['Population', 'Nb Faits Divers', 'Inscrits', 'Nb_Votant']\n",
        "vars_macro = ['Taux de chômage', 'Créations']\n",
        "\n",
        "# Génération des colonnes de différence entre 2022 et 2017\n",
        "colonnes_diff = {}\n",
        "for v in vars_diff:\n",
        "    df_tmp = donnees[['Code Commune', 'Année', v]].groupby(['Code Commune', 'Année']).sum().reset_index()\n",
        "    pivot = df_tmp.pivot(index='Code Commune', columns='Année', values=v)\n",
        "    nom_col_diff = f\"{v}_Delta_{ANNEE_REF}_{ANNEE_PRECE}\"\n",
        "\n",
        "    if ANNEE_REF in pivot.columns and ANNEE_PRECE in pivot.columns:\n",
        "        pivot[nom_col_diff] = pivot[ANNEE_REF] - pivot[ANNEE_PRECE]\n",
        "        donnees_2022 = donnees_2022.merge(pivot[[nom_col_diff]].reset_index(), on='Code Commune', how='left')\n",
        "        colonnes_diff[v] = nom_col_diff\n",
        "\n",
        "donnees_2022.fillna({col: 0 for col in colonnes_diff.values()}, inplace=True)\n",
        "\n",
        "# Encodage des colonnes catégorielles\n",
        "donnees_2022[\"Région\"] = donnees_2022[\"Région\"].astype(str)\n",
        "donnees_2022[\"Code Departement\"] = donnees_2022[\"Code Departement\"].astype(str)\n",
        "\n",
        "# Cible : gagnant\n",
        "donnees_2022 = donnees_2022.dropna(subset=[\"Nom_Prenom_Gagnant\"])\n",
        "encodeur_cible = LabelEncoder()\n",
        "cible = encodeur_cible.fit_transform(donnees_2022[\"Nom_Prenom_Gagnant\"])\n",
        "mapping_candidats = dict(zip(encodeur_cible.classes_, encodeur_cible.transform(encodeur_cible.classes_)))\n",
        "\n",
        "# Définition des features\n",
        "num_features = vars_locales + [colonnes_diff[v] for v in vars_locales if v in colonnes_diff]\n",
        "macro_features = [colonnes_diff[v] for v in vars_macro if v in colonnes_diff]\n",
        "cat_features = [\"Région\", \"Code Departement\"]\n",
        "\n",
        "features_X = [col for col in num_features + macro_features + cat_features if col in donnees_2022.columns]\n",
        "X = donnees_2022[features_X].copy()\n",
        "\n",
        "# Pipelines\n",
        "pipeline_num = Pipeline([\n",
        "    (\"imput\", SimpleImputer(strategy=\"median\")),\n",
        "    (\"scale\", StandardScaler())\n",
        "])\n",
        "\n",
        "cat_in_X = [c for c in cat_features if c in X.columns]\n",
        "num_in_X = [c for c in num_features if c in X.columns]\n",
        "reste = [c for c in features_X if c not in cat_in_X + num_in_X]\n",
        "\n",
        "preprocesseur = ColumnTransformer([\n",
        "    (\"numeriques\", pipeline_num, num_in_X),\n",
        "    (\"categoriels\", OneHotEncoder(handle_unknown=\"ignore\", sparse_output=False), cat_in_X),\n",
        "    (\"restants\", SimpleImputer(strategy=\"median\"), reste)\n",
        "])\n",
        "\n",
        "X_train, X_test, y_train, y_test = train_test_split(X, cible, test_size=0.2, random_state=42, stratify=cible)\n",
        "\n",
        "X_train_enc = preprocesseur.fit_transform(X_train)\n",
        "X_test_enc = preprocesseur.transform(X_test)\n",
        "\n",
        "# Modèle 1 : Random Forest\n",
        "modele_rf = RandomForestClassifier(n_estimators=125, class_weight='balanced', random_state=42, n_jobs=-1)\n",
        "modele_rf.fit(X_train_enc, y_train)\n",
        "print(\"RF Accuracy:\", accuracy_score(y_test, modele_rf.predict(X_test_enc)))\n",
        "\n",
        "# Modèle 2 : Gradient Boosting\n",
        "modele_gb = GradientBoostingClassifier(n_estimators=100, learning_rate=0.1, max_depth=3, random_state=42)\n",
        "modele_gb.fit(X_train_enc, y_train)\n",
        "print(\"GB Accuracy:\", accuracy_score(y_test, modele_gb.predict(X_test_enc)))\n",
        "\n",
        "# Modèle 3 : KMeans\n",
        "nb_clusters = 250\n",
        "km = KMeans(n_clusters=nb_clusters, n_init=10, random_state=42)\n",
        "km.fit(X_train_enc)\n",
        "clusters_train = km.labels_\n",
        "\n",
        "# Associer chaque cluster à un gagnant majoritaire\n",
        "assoc_cluster = {}\n",
        "for i in range(nb_clusters):\n",
        "    indices = np.where(clusters_train == i)[0]\n",
        "    if len(indices):\n",
        "        gagnant = Counter(y_train[indices]).most_common(1)[0][0]\n",
        "    else:\n",
        "        gagnant = Counter(y_train).most_common(1)[0][0]\n",
        "    assoc_cluster[i] = gagnant\n",
        "\n",
        "# Prédictions KMeans\n",
        "clusters_test = km.predict(X_test_enc)\n",
        "pred_kmeans = np.array([assoc_cluster.get(c, -1) for c in clusters_test])\n",
        "valid_kmeans = pred_kmeans != -1\n",
        "print(\"KMeans Accuracy:\", accuracy_score(y_test[valid_kmeans], pred_kmeans[valid_kmeans]))\n"
      ],
      "metadata": {
        "colab": {
          "base_uri": "https://localhost:8080/"
        },
        "id": "4HrTveIK-dgW",
        "outputId": "b0ce5495-787c-4a25-9317-5487253a6a4c"
      },
      "execution_count": 2,
      "outputs": [
        {
          "output_type": "stream",
          "name": "stderr",
          "text": [
            "/tmp/ipython-input-2-3904259604.py:14: DtypeWarning: Columns (0,3,11) have mixed types. Specify dtype option on import or set low_memory=False.\n",
            "  donnees = pd.read_csv(\"final_data.csv\")\n"
          ]
        },
        {
          "output_type": "stream",
          "name": "stdout",
          "text": [
            "RF Accuracy: 0.6521054139215124\n",
            "GB Accuracy: 0.6631337725580063\n",
            "KMeans Accuracy: 0.6541105700372386\n"
          ]
        }
      ]
    }
  ]
}